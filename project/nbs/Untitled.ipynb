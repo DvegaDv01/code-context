{
 "cells": [
  {
   "cell_type": "code",
   "execution_count": 1,
   "metadata": {},
   "outputs": [],
   "source": [
    "import sys\n",
    "import os\n",
    "import json"
   ]
  },
  {
   "cell_type": "code",
   "execution_count": 2,
   "metadata": {},
   "outputs": [],
   "source": [
    "relative_path = '../'\n",
    "absolute_path = os.path.abspath(relative_path)\n",
    "sys.path.append(absolute_path)\n",
    "\n",
    "from core.code_context import CodeContext"
   ]
  },
  {
   "cell_type": "code",
   "execution_count": 3,
   "metadata": {},
   "outputs": [],
   "source": [
    "def example_serialization_deserialization():\n",
    "    # Create and manipulate a CodeContext instance\n",
    "    code_context = CodeContext(language=\"Python\")\n",
    "    src_dir = code_context.create_directory(\"src\")\n",
    "    main_file = code_context.create_file(\"main.py\", parent_path=\"src\")\n",
    "    main_file.add_variable(\"x\", \"int\")\n",
    "    main_file.add_function(\"main\", \"def main():\")\n",
    "    code_context.add_dependency(\"numpy\", \"1.21.0\")\n",
    "\n",
    "    # Serialize the code context to JSON format\n",
    "    serialized_context = code_context.to_json()\n",
    "\n",
    "    # Deserialize JSON to reconstruct the code context\n",
    "    deserialized_context = CodeContext.from_json(serialized_context)\n",
    "    # Print the deserialized code context\n",
    "    print(json.dumps(deserialized_context.to_json(), indent=2))"
   ]
  },
  {
   "cell_type": "code",
   "execution_count": 4,
   "metadata": {
    "collapsed": true
   },
   "outputs": [
    {
     "name": "stdout",
     "output_type": "stream",
     "text": [
      "{\n",
      "  \"language\": \"Python\",\n",
      "  \"directories\": {\n",
      "    \"name\": \"root\",\n",
      "    \"subdirectories\": [\n",
      "      {\n",
      "        \"name\": \"src\",\n",
      "        \"subdirectories\": [],\n",
      "        \"files\": [\n",
      "          {\n",
      "            \"name\": \"main.py\",\n",
      "            \"variables\": [\n",
      "              {\n",
      "                \"name\": \"x\",\n",
      "                \"data_type\": \"int\"\n",
      "              }\n",
      "            ],\n",
      "            \"functions\": [\n",
      "              {\n",
      "                \"name\": \"main\",\n",
      "                \"signature\": \"def main():\"\n",
      "              }\n",
      "            ],\n",
      "            \"classes\": []\n",
      "          }\n",
      "        ]\n",
      "      }\n",
      "    ],\n",
      "    \"files\": []\n",
      "  },\n",
      "  \"project_config\": {\n",
      "    \"compiler_options\": \"\",\n",
      "    \"build_targets\": \"\",\n",
      "    \"settings\": {}\n",
      "  },\n",
      "  \"version_control\": {\n",
      "    \"branches\": [\n",
      "      {\n",
      "        \"name\": \"main\",\n",
      "        \"commits\": []\n",
      "      }\n",
      "    ],\n",
      "    \"current_branch\": \"main\"\n",
      "  },\n",
      "  \"dependencies\": [\n",
      "    {\n",
      "      \"library\": \"numpy\",\n",
      "      \"version\": \"1.21.0\"\n",
      "    }\n",
      "  ],\n",
      "  \"languages\": {},\n",
      "  \"issue_tracker\": [],\n",
      "  \"test_suite\": []\n",
      "}\n"
     ]
    }
   ],
   "source": [
    "example_serialization_deserialization()"
   ]
  },
  {
   "cell_type": "markdown",
   "metadata": {},
   "source": [
    "****"
   ]
  },
  {
   "cell_type": "code",
   "execution_count": 5,
   "metadata": {},
   "outputs": [],
   "source": [
    "# Example 2: Deserialize an existing code context JSON and manipulate it\n",
    "code_context_json_str = \"\"\"\n",
    "{\n",
    "    \"language\": \"Python\",\n",
    "    \"directories\": {\n",
    "        \"name\": \"src\",\n",
    "        \"subdirectories\": [\n",
    "            {\n",
    "                \"name\": \"utils\",\n",
    "                \"subdirectories\": [],\n",
    "                \"files\": [\n",
    "                    {\n",
    "                        \"name\": \"math_utils.py\",\n",
    "                        \"variables\": [\n",
    "                            {\n",
    "                                \"name\": \"PI\",\n",
    "                                \"data_type\": \"float\"\n",
    "                            }\n",
    "                        ],\n",
    "                        \"functions\": [\n",
    "                            {\n",
    "                                \"name\": \"add\",\n",
    "                                \"signature\": \"def add(a, b):\"\n",
    "                            },\n",
    "                            {\n",
    "                                \"name\": \"subtract\",\n",
    "                                \"signature\": \"def subtract(a, b):\"\n",
    "                            }\n",
    "                        ],\n",
    "                        \"classes\": []\n",
    "                    }\n",
    "                ]\n",
    "            }\n",
    "        ],\n",
    "        \"files\": [\n",
    "            {\n",
    "                \"name\": \"main.py\",\n",
    "                \"variables\": [],\n",
    "                \"functions\": [\n",
    "                    {\n",
    "                        \"name\": \"main\",\n",
    "                        \"signature\": \"def main():\"\n",
    "                    }\n",
    "                ],\n",
    "                \"classes\": [\n",
    "                    {\n",
    "                        \"name\": \"MyClass\",\n",
    "                        \"attributes\": [\n",
    "                            {\n",
    "                                \"name\": \"value\",\n",
    "                                \"data_type\": \"int\",\n",
    "                                \"access_modifier\": \"private\"\n",
    "                            }\n",
    "                        ],\n",
    "                        \"methods\": [\n",
    "                            {\n",
    "                                \"name\": \"get_value\",\n",
    "                                \"signature\": \"def get_value(self):\",\n",
    "                                \"return_type\": \"int\",\n",
    "                                \"access_modifier\": \"public\"\n",
    "                            },\n",
    "                            {\n",
    "                                \"name\": \"set_value\",\n",
    "                                \"signature\": \"def set_value(self, new_value):\",\n",
    "                                \"return_type\": \"None\",\n",
    "                                \"access_modifier\": \"public\"\n",
    "                            }\n",
    "                        ]\n",
    "                    }\n",
    "                ]\n",
    "            }\n",
    "        ]\n",
    "    },\n",
    "    \"project_config\": {\n",
    "        \"compiler_options\": \"python3\",\n",
    "        \"build_targets\": \"build\",\n",
    "        \"settings\": {\n",
    "            \"debug\": \"True\"\n",
    "        }\n",
    "    },\n",
    "    \"version_control\": {\n",
    "        \"branches\": [\n",
    "            {\n",
    "                \"name\": \"main\",\n",
    "                \"commits\": [\n",
    "                    {\n",
    "                        \"message\": \"Initial commit\",\n",
    "                        \"timestamp\": \"1648653552.0\"\n",
    "                    }\n",
    "                ]\n",
    "            }\n",
    "        ],\n",
    "        \"current_branch\": \"main\"\n",
    "    },\n",
    "    \"dependencies\": [\n",
    "        {\n",
    "            \"library\": \"numpy\",\n",
    "            \"version\": \"1.21.0\"\n",
    "        }\n",
    "    ]\n",
    "}\n",
    "\"\"\""
   ]
  },
  {
   "cell_type": "code",
   "execution_count": 6,
   "metadata": {},
   "outputs": [],
   "source": [
    "# Step 1: Parse the JSON string into a dictionary\n",
    "context_dict = json.loads(code_context_json_str)\n",
    "\n",
    "# Step 2: Use the CodeContext.from_json class method to create a CodeContext object\n",
    "code_context = CodeContext.from_json(context_dict)\n"
   ]
  },
  {
   "cell_type": "code",
   "execution_count": 7,
   "metadata": {},
   "outputs": [],
   "source": [
    "# Step 3: Access the attributes of the CodeContext object to extract code elements\n",
    "language = code_context.language\n",
    "directories = code_context.directories\n",
    "project_config = code_context.project_config\n",
    "version_control = code_context.version_control\n",
    "dependencies = code_context.dependencies"
   ]
  },
  {
   "cell_type": "code",
   "execution_count": 8,
   "metadata": {},
   "outputs": [],
   "source": [
    "# Access the 'src' directory and its files\n",
    "src_directory = directories"
   ]
  },
  {
   "cell_type": "code",
   "execution_count": 9,
   "metadata": {},
   "outputs": [],
   "source": [
    "src_files = src_directory.files"
   ]
  },
  {
   "cell_type": "code",
   "execution_count": 10,
   "metadata": {},
   "outputs": [
    {
     "data": {
      "text/plain": [
       "{'name': 'main.py',\n",
       " 'variables': [],\n",
       " 'functions': [{'name': 'main', 'signature': 'def main():'}],\n",
       " 'classes': [{'name': 'MyClass',\n",
       "   'attributes': [{'name': 'value', 'data_type': 'int'}],\n",
       "   'methods': [{'name': 'get_value', 'signature': 'def get_value(self):'},\n",
       "    {'name': 'set_value', 'signature': 'def set_value(self, new_value):'}]}]}"
      ]
     },
     "execution_count": 10,
     "metadata": {},
     "output_type": "execute_result"
    }
   ],
   "source": [
    "src_files['main.py'].to_json()"
   ]
  },
  {
   "cell_type": "code",
   "execution_count": 11,
   "metadata": {},
   "outputs": [],
   "source": [
    "# Access the 'main.py' file and its code elements\n",
    "main_py_file = src_files[\"main.py\"]\n",
    "variables = main_py_file.variables\n",
    "functions = main_py_file.functions\n",
    "classes = main_py_file.classes"
   ]
  },
  {
   "cell_type": "code",
   "execution_count": 12,
   "metadata": {},
   "outputs": [],
   "source": [
    "def format_object_attributes(obj):\n",
    "    # Exclude special attributes/methods and display only relevant information\n",
    "    formatted_output = {}\n",
    "    for attr in dir(obj):\n",
    "        value = getattr(obj, attr)\n",
    "        if not callable(value) and not attr.startswith(\"__\"):\n",
    "            if isinstance(value, list):\n",
    "                # Handle lists of nested objects (e.g., attributes, methods in classes)\n",
    "                formatted_output[attr] = [format_object_attributes(item) for item in value]\n",
    "            else:\n",
    "                formatted_output[attr] = value\n",
    "    return formatted_output"
   ]
  },
  {
   "cell_type": "code",
   "execution_count": 13,
   "metadata": {},
   "outputs": [
    {
     "name": "stdout",
     "output_type": "stream",
     "text": [
      "Language: Python\n",
      "Project Config: {'build_targets': 'build', 'compiler_options': 'python3', 'settings': {'debug': 'True'}}\n",
      "Version Control: {'branches': {'main': <core.version_control.Branch object at 0x7f6fa43a7310>}, 'current_branch': 'main'}\n",
      "Dependencies: {'dependencies': [{}]}\n",
      "Variables in main.py: []\n",
      "Functions in main.py: [{'name': 'main', 'signature': 'def main():'}]\n",
      "Classes in main.py: [{'attributes': [{'data_type': 'int', 'name': 'value'}], 'methods': [{'name': 'get_value', 'signature': 'def get_value(self):'}, {'name': 'set_value', 'signature': 'def set_value(self, new_value):'}], 'name': 'MyClass'}]\n"
     ]
    }
   ],
   "source": [
    "# Print code elements\n",
    "print(\"Language:\", language)\n",
    "\n",
    "# Extract and display relevant information for each object\n",
    "print(\"Project Config:\", format_object_attributes(project_config))\n",
    "print(\"Version Control:\", format_object_attributes(version_control))\n",
    "print(\"Dependencies:\", format_object_attributes(dependencies))\n",
    "\n",
    "# Display variables, functions, and classes in main.py\n",
    "print(\"Variables in main.py:\", [format_object_attributes(var) for var in variables.values()])\n",
    "print(\"Functions in main.py:\", [format_object_attributes(func) for func in functions.values()])\n",
    "print(\"Classes in main.py:\", [format_object_attributes(cls) for cls in classes.values()])"
   ]
  },
  {
   "cell_type": "code",
   "execution_count": 14,
   "metadata": {},
   "outputs": [
    {
     "name": "stdout",
     "output_type": "stream",
     "text": [
      "Methods in class 'MyClass': [<models.file.Function object at 0x7f6fa43a7110>, <models.file.Function object at 0x7f6fa43a7210>]\n",
      "Attributes in class 'MyClass': [<models.file.Variable object at 0x7f6fa43a7910>]\n"
     ]
    }
   ],
   "source": [
    "# Access the methods and attributes of the classes in main.py\n",
    "for class_name, class_obj in classes.items():\n",
    "    class_methods = class_obj.methods\n",
    "    class_attributes = class_obj.attributes\n",
    "    print(f\"Methods in class '{class_name}':\", class_methods)\n",
    "    print(f\"Attributes in class '{class_name}':\", class_attributes)"
   ]
  },
  {
   "cell_type": "code",
   "execution_count": 15,
   "metadata": {},
   "outputs": [
    {
     "name": "stdout",
     "output_type": "stream",
     "text": [
      "Methods in class 'MyClass': [{'name': 'get_value', 'signature': 'def get_value(self):'}, {'name': 'set_value', 'signature': 'def set_value(self, new_value):'}]\n",
      "Attributes in class 'MyClass': [{'name': 'value', 'data_type': 'int'}]\n"
     ]
    }
   ],
   "source": [
    "# Access the methods and attributes of the classes in main.py\n",
    "for class_name, class_obj in classes.items():\n",
    "    class_methods = class_obj.methods\n",
    "    class_attributes = class_obj.attributes\n",
    "    \n",
    "    # Extract and display method information\n",
    "    method_info = []\n",
    "    for method in class_methods:\n",
    "        method_info.append({\n",
    "            \"name\": method.name,\n",
    "            \"signature\": method.signature\n",
    "        })\n",
    "    \n",
    "    # Extract and display attribute information\n",
    "    attribute_info = []\n",
    "    for attribute in class_attributes:\n",
    "        attribute_info.append({\n",
    "            \"name\": attribute.name,\n",
    "            \"data_type\": attribute.data_type\n",
    "        })\n",
    "    \n",
    "    print(f\"Methods in class '{class_name}':\", method_info)\n",
    "    print(f\"Attributes in class '{class_name}':\", attribute_info)\n"
   ]
  },
  {
   "cell_type": "markdown",
   "metadata": {},
   "source": [
    "****"
   ]
  },
  {
   "cell_type": "code",
   "execution_count": 3,
   "metadata": {},
   "outputs": [],
   "source": [
    "java_project_json_str = \"\"\"{\n",
    "    \"language\": \"Java\",\n",
    "    \"directories\": {\n",
    "        \"name\": \"src\",\n",
    "        \"subdirectories\": [\n",
    "            {\n",
    "                \"name\": \"utils\",\n",
    "                \"subdirectories\": [],\n",
    "                \"files\": [\n",
    "                    {\n",
    "                        \"name\": \"MathUtils.java\",\n",
    "                        \"variables\": [\n",
    "                            {\n",
    "                                \"name\": \"PI\",\n",
    "                                \"data_type\": \"double\"\n",
    "                            }\n",
    "                        ],\n",
    "                        \"functions\": [\n",
    "                            {\n",
    "                                \"name\": \"add\",\n",
    "                                \"signature\": \"public static int add(int a, int b)\"\n",
    "                            },\n",
    "                            {\n",
    "                                \"name\": \"subtract\",\n",
    "                                \"signature\": \"public static int subtract(int a, int b)\"\n",
    "                            }\n",
    "                        ],\n",
    "                        \"classes\": []\n",
    "                    }\n",
    "                ]\n",
    "            }\n",
    "        ],\n",
    "        \"files\": [\n",
    "            {\n",
    "                \"name\": \"Main.java\",\n",
    "                \"variables\": [],\n",
    "                \"functions\": [\n",
    "                    {\n",
    "                        \"name\": \"main\",\n",
    "                        \"signature\": \"public static void main(String[] args)\"\n",
    "                    }\n",
    "                ],\n",
    "                \"classes\": [\n",
    "                    {\n",
    "                        \"name\": \"MyClass\",\n",
    "                        \"attributes\": [\n",
    "                            {\n",
    "                                \"name\": \"value\",\n",
    "                                \"data_type\": \"int\",\n",
    "                                \"access_modifier\": \"private\"\n",
    "                            }\n",
    "                        ],\n",
    "                        \"methods\": [\n",
    "                            {\n",
    "                                \"name\": \"getValue\",\n",
    "                                \"signature\": \"public int getValue()\",\n",
    "                                \"return_type\": \"int\",\n",
    "                                \"access_modifier\": \"public\"\n",
    "                            },\n",
    "                            {\n",
    "                                \"name\": \"setValue\",\n",
    "                                \"signature\": \"public void setValue(int newValue)\",\n",
    "                                \"return_type\": \"void\",\n",
    "                                \"access_modifier\": \"public\"\n",
    "                            }\n",
    "                        ]\n",
    "                    }\n",
    "                ]\n",
    "            }\n",
    "        ]\n",
    "    },\n",
    "    \"project_config\": {\n",
    "        \"compiler_options\": \"javac\",\n",
    "        \"build_targets\": \"build\",\n",
    "        \"settings\": {\n",
    "            \"debug\": \"True\"\n",
    "        }\n",
    "    },\n",
    "    \"version_control\": {\n",
    "        \"branches\": [\n",
    "            {\n",
    "                \"name\": \"main\",\n",
    "                \"commits\": [\n",
    "                    {\n",
    "                        \"message\": \"Initial commit\",\n",
    "                        \"timestamp\": \"1648653552.0\"\n",
    "                    }\n",
    "                ]\n",
    "            }\n",
    "        ],\n",
    "        \"current_branch\": \"main\"\n",
    "    },\n",
    "    \"dependencies\": [\n",
    "        {\n",
    "            \"library\": \"JUnit\",\n",
    "            \"version\": \"4.13.2\"\n",
    "        }\n",
    "    ]\n",
    "}\n",
    "\"\"\""
   ]
  },
  {
   "cell_type": "code",
   "execution_count": 4,
   "metadata": {},
   "outputs": [],
   "source": [
    "# Step 1: Parse the JSON string into a dictionary\n",
    "context_dict = json.loads(java_project_json_str)\n",
    "\n",
    "# Step 2: Use the CodeContext.from_json class method to create a CodeContext object\n",
    "code_context = CodeContext.from_json(context_dict)\n",
    "\n",
    "# Step 3: Access the attributes of the CodeContext object to extract code elements\n",
    "language = code_context.language\n",
    "directories = code_context.directories\n",
    "project_config = code_context.project_config\n",
    "version_control = code_context.version_control\n",
    "dependencies = code_context.dependencies"
   ]
  },
  {
   "cell_type": "code",
   "execution_count": 7,
   "metadata": {},
   "outputs": [],
   "source": [
    "# Access the 'src' directory and its files\n",
    "src_directory = directories\n",
    "if src_directory is not None:\n",
    "    src_files = src_directory.files\n",
    "else:\n",
    "    print(\"The 'src' directory was not found.\")"
   ]
  },
  {
   "cell_type": "code",
   "execution_count": 8,
   "metadata": {},
   "outputs": [],
   "source": [
    "src_files = src_directory.files"
   ]
  },
  {
   "cell_type": "code",
   "execution_count": 10,
   "metadata": {},
   "outputs": [],
   "source": [
    "# Access the 'Main.java' file and its code elements\n",
    "main_java_file = src_files.get(\"Main.java\")\n",
    "variables = main_java_file.variables\n",
    "functions = main_java_file.functions\n",
    "classes = main_java_file.classes\n",
    "\n",
    "# Extract attributes and methods of the MyClass\n",
    "my_class = classes[\"MyClass\"]\n",
    "class_attributes = my_class.attributes\n",
    "class_methods = my_class.methods"
   ]
  },
  {
   "cell_type": "code",
   "execution_count": 12,
   "metadata": {},
   "outputs": [
    {
     "name": "stdout",
     "output_type": "stream",
     "text": [
      "Language: Java\n",
      "Project Config:\n",
      " - Compiler options: javac\n",
      " - Build targets: build\n",
      " - Settings: {'debug': 'True'}\n",
      "Version Control:\n",
      " - Current branch: main\n",
      " - Branches: ['main']\n",
      "Dependencies: [{'library': 'JUnit', 'version': '4.13.2'}]\n",
      "Variables in Main.java: []\n",
      "Functions in Main.java: [{'name': 'main', 'signature': 'public static void main(String[] args)'}]\n",
      "Classes in Main.java: [{'name': 'MyClass', 'attributes': [{'name': 'value', 'data_type': 'int'}], 'methods': [{'name': 'getValue', 'signature': 'public int getValue()'}, {'name': 'setValue', 'signature': 'public void setValue(int newValue)'}]}]\n",
      "Attributes of MyClass: [{'name': 'value', 'data_type': 'int'}]\n",
      "Methods of MyClass: [{'name': 'getValue', 'signature': 'public int getValue()'}, {'name': 'setValue', 'signature': 'public void setValue(int newValue)'}]\n"
     ]
    }
   ],
   "source": [
    "# Print code elements\n",
    "print(\"Language:\", code_context.language)\n",
    "print(\"Project Config:\")\n",
    "print(\" - Compiler options:\", code_context.project_config.compiler_options)\n",
    "print(\" - Build targets:\", code_context.project_config.build_targets)\n",
    "print(\" - Settings:\", code_context.project_config.settings)\n",
    "print(\"Version Control:\")\n",
    "print(\" - Current branch:\", code_context.version_control.current_branch)\n",
    "print(\" - Branches:\", [branch.name for branch in code_context.version_control.branches.values()])\n",
    "print(\"Dependencies:\", code_context.dependencies.to_json())  # Updated to use to_json() method\n",
    "print(\"Variables in Main.java:\", [var.to_json() for var in variables.values()])\n",
    "print(\"Functions in Main.java:\", [func.to_json() for func in functions.values()])\n",
    "print(\"Classes in Main.java:\", [cls.to_json() for cls in classes.values()])\n",
    "print(\"Attributes of MyClass:\", [attr.to_json() for attr in class_attributes])\n",
    "print(\"Methods of MyClass:\", [method.to_json() for method in class_methods])"
   ]
  },
  {
   "cell_type": "code",
   "execution_count": null,
   "metadata": {},
   "outputs": [],
   "source": []
  }
 ],
 "metadata": {
  "kernelspec": {
   "display_name": "torchcde",
   "language": "python",
   "name": "torchcde"
  },
  "language_info": {
   "codemirror_mode": {
    "name": "ipython",
    "version": 3
   },
   "file_extension": ".py",
   "mimetype": "text/x-python",
   "name": "python",
   "nbconvert_exporter": "python",
   "pygments_lexer": "ipython3",
   "version": "3.7.9"
  }
 },
 "nbformat": 4,
 "nbformat_minor": 4
}
